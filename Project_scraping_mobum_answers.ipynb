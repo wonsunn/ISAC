{
 "cells": [
  {
   "cell_type": "code",
   "execution_count": 2,
   "metadata": {},
   "outputs": [
    {
     "name": "stdout",
     "output_type": "stream",
     "text": [
      "Available functions: downlad, login \n",
      "Available objects: headers(dict with my user-agent info)\n"
     ]
    }
   ],
   "source": [
    "from myfunctions import *\n",
    "import requests\n",
    "from bs4 import BeautifulSoup"
   ]
  },
  {
   "cell_type": "code",
   "execution_count": 17,
   "metadata": {},
   "outputs": [],
   "source": [
    "import numpy as np"
   ]
  },
  {
   "cell_type": "markdown",
   "metadata": {},
   "source": [
    "각 페이지는 0, 10, 20, 30 의 순서대로 넘어갑니다. 아래 함수는 한 페이지에서 순서, 구분, 아이템, 제목, 날"
   ]
  },
  {
   "cell_type": "code",
   "execution_count": 24,
   "metadata": {},
   "outputs": [],
   "source": [
    "url = 'http://www.ccn.go.kr/contents/include.ccn?nMenuCode=6&mPart='"
   ]
  },
  {
   "cell_type": "code",
   "execution_count": 55,
   "metadata": {},
   "outputs": [],
   "source": [
    "db = list()\n",
    "def scrape(url, page, db):\n",
    "    data = {\"startCount\":page}\n",
    "    html = download('post', url, data = data)\n",
    "    dom = BeautifulSoup(html.text, 'html')\n",
    "    tbody = dom.findAll('tbody')[1]\n",
    "    foo = [_.text.split('\\n') for _ in tbody.findAll('tr')]\n",
    "    \n",
    "    base = 'http://www.ccn.go.kr/contents'\n",
    "    subject = [base + _.a['href'] for _ in tbody.findAll('tr')]\n",
    "    \n",
    "    for i, j in zip(foo, subject):\n",
    "        temp = dict()\n",
    "        temp['num'] = i[1]\n",
    "        temp['gooboon'] = i[2]\n",
    "        temp['itemCode'] = i[3]\n",
    "        temp['title'] = i[4]\n",
    "        temp['date'] = i[6]\n",
    "        \n",
    "        inside = download('get', j)\n",
    "        inside_dom = BeautifulSoup(inside.text, 'html')\n",
    "        qa = inside_dom.findAll('div', {'class':'autocounsel_last_box_mid'})\n",
    "        temp['question'] = qa[0].text\n",
    "        temp['answer'] = qa[1].text\n",
    "        \n",
    "        db.append(temp)\n",
    "    return db"
   ]
  },
  {
   "cell_type": "code",
   "execution_count": 56,
   "metadata": {},
   "outputs": [],
   "source": [
    "db = scrape(url, 0, db)"
   ]
  },
  {
   "cell_type": "code",
   "execution_count": 57,
   "metadata": {},
   "outputs": [
    {
     "data": {
      "text/plain": [
       "{'answer': '\\n\\n최근 해외배송제품이 증가하면서 배송 지연과 관련된 분쟁이 자주 발생하고 있어 각별한 주의가 요구됩니다. \\r\\n\\n「전자상거래 등에서의 소비자보호에 관한 법률」 제15조제1항에 의거 통신판매업자는 소비자가 재화를 공급받기 전에 미리 재화의 대금을 전부 또는 일부 지급하는 통신판매(선지급식 통신판매)의 경우에는 소비자가 그 대금을 전부 또는 일부 지급한 날부터 3영업일 이내에 재화의 공급을 위하여 필요한 조치를 하여야 하고, 다만 소비자와 통신판매업자간에 재화 등의 공급시기에 관하여 따로 약정한 것이 있는 경우에는 따로 약정한 공급일로부터 3영업일 이내에 재화의 공급이 이루어져야 합니다.\\r\\n\\n한편, 동법 제15조제2항에 따르면 통신판매업자는 청약을 받은 재화를 공급하기 곤란하다는 것을 알았을 때에는 지체 없이 그 사유를 소비자에게 알려야 하고, 선지급식 통신판매의 경우에는 소비자가 그 대금의 전부 또는 일부를 지급한 날부터 3영업일 이내에 환급하거나 환급에 필요한 조치를 해야하며, 이 경우 동법 제18조제1항부터 제5항까지의 규정을 준용하여 청약철회의 효과와 동일하게 대금의 환급이 이루어져야 합니다. \\r\\n\\n따라서, 통신판매업자와 재화의 구매에 관한 계약을 체결한 소비자는 대금을 지급한 날 또는 소비자와 통신판매업자간에 따로 약정한 공급일로부터 3영업일 이내에 재화의 공급이 이루어지지 않은 경우 판매자에게 해당 계약에 관한 청약철회를 할 수 있습니다.\\n\\n',\n",
       " 'date': '2019.05.30',\n",
       " 'gooboon': '의류·섬유신변용품',\n",
       " 'itemCode': '의류·섬유신변용품',\n",
       " 'num': '1',\n",
       " 'question': '\\n\\n인터넷쇼핑몰에서 의류를 주문하고 결제를 하였는데 몇 주가 지나도 배송이 되지 않아 계약의 청약철회 및 구입가 환급을 요청하였더니, 판매자는 현재 배송중이라며 청약철회 및 환급을 거부하고 있습니다. 이러한 경우 피해구제를 받을 수 있나요?\\n\\n',\n",
       " 'title': '전자상거래로 의류 구입 후 배송 지연 시 계약 청약철회 및 구입가 환급 요구'}"
      ]
     },
     "execution_count": 57,
     "metadata": {},
     "output_type": "execute_result"
    }
   ],
   "source": [
    "db[0]"
   ]
  },
  {
   "cell_type": "code",
   "execution_count": null,
   "metadata": {},
   "outputs": [],
   "source": []
  }
 ],
 "metadata": {
  "kernelspec": {
   "display_name": "Python 3",
   "language": "python",
   "name": "python3"
  },
  "language_info": {
   "codemirror_mode": {
    "name": "ipython",
    "version": 3
   },
   "file_extension": ".py",
   "mimetype": "text/x-python",
   "name": "python",
   "nbconvert_exporter": "python",
   "pygments_lexer": "ipython3",
   "version": "3.5.6"
  }
 },
 "nbformat": 4,
 "nbformat_minor": 2
}
