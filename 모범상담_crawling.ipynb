{
 "cells": [
  {
   "cell_type": "code",
   "execution_count": 1,
   "metadata": {},
   "outputs": [
    {
     "name": "stdout",
     "output_type": "stream",
     "text": [
      "Available functions: downlad, login \n",
      "Available objects: headers(dict with my user-agent info)\n"
     ]
    }
   ],
   "source": [
    "from myfunctions import *\n",
    "import requests\n",
    "from bs4 import BeautifulSoup"
   ]
  },
  {
   "cell_type": "code",
   "execution_count": 2,
   "metadata": {},
   "outputs": [],
   "source": [
    "import numpy as np\n",
    "import regex as re\n",
    "import sys"
   ]
  },
  {
   "cell_type": "markdown",
   "metadata": {},
   "source": [
    "각 페이지는 0, 10, 20, 30 의 순서대로 넘어갑니다. 아래 함수는 한 페이지에서 순서, 구분, 아이템, 제목, 날짜, 그리고 각 url에 접속하여 질문과 답변을 가져옵니다."
   ]
  },
  {
   "cell_type": "code",
   "execution_count": 3,
   "metadata": {},
   "outputs": [],
   "source": [
    "url = 'http://www.ccn.go.kr/contents/include.ccn?nMenuCode=6&mPart='"
   ]
  },
  {
   "cell_type": "markdown",
   "metadata": {},
   "source": [
    "11280까지 있다."
   ]
  },
  {
   "cell_type": "code",
   "execution_count": 12,
   "metadata": {},
   "outputs": [],
   "source": [
    "db = list()\n",
    "def scrape(url, page, db):\n",
    "    data = {\"startCount\":page}\n",
    "    html = download('post', url, data = data)\n",
    "    dom = BeautifulSoup(html.text, 'html')\n",
    "    tbody = dom.findAll('tbody')[1]\n",
    "    foo = [_.text.split('\\n') for _ in tbody.findAll('tr')]\n",
    "    \n",
    "    base = 'http://www.ccn.go.kr/contents'\n",
    "    subject = [base + _.a['href'] for _ in tbody.findAll('tr')]\n",
    "    \n",
    "    for i, j in zip(foo, subject):\n",
    "        temp = dict()\n",
    "        temp['num'] = i[1]\n",
    "        temp['gooboon'] = i[2]\n",
    "        temp['itemCode'] = i[3]\n",
    "        temp['title'] = i[4]\n",
    "        temp['date'] = i[6]\n",
    "        \n",
    "        inside = download('get', j)\n",
    "        inside_dom = BeautifulSoup(inside.text, 'html')\n",
    "        qa = inside_dom.findAll('div', {'class':'autocounsel_last_box_mid'})\n",
    "        temp['question'] = qa[0].text\n",
    "        temp['answer'] = qa[1].text\n",
    "        \n",
    "        db.append(temp)\n",
    "    return db"
   ]
  },
  {
   "cell_type": "code",
   "execution_count": 14,
   "metadata": {},
   "outputs": [
    {
     "name": "stdout",
     "output_type": "stream",
     "text": [
      "Wall time: 8.51 s\n"
     ]
    }
   ],
   "source": [
    "%%time\n",
    "db = scrape(url, 2, db)"
   ]
  },
  {
   "cell_type": "code",
   "execution_count": 8,
   "metadata": {},
   "outputs": [
    {
     "data": {
      "text/plain": [
       "{'answer': '\\n\\n소비자가 신용카드로 200,000원 이상의 금액을 2개월 이상의 기간에 걸쳐 3회 이상 나누어 지급하는 경우, 「할부거래에 관한 법률」 제16조에 따라 항변권을 행사할 수 있습니다. \\r\\n항변권은 할부거래에서 소비자가 계약의 목적을 달성할 수 없을 때 할부 잔액 지급을 거절할 수 있도록 하여, 소비자 피해를 최소화하려는 취지에서 인정되는 권리입니다. \\r\\n따라서 의사 구속 등 정상 진료 불가로 인해 도수치료가 중단 된 경우, 소비자는 동법 제16조 제1항 제5호에 따라 잔여 할부금의 지급을 거절할 수 있습니다. 항변권은 할부금의 지급을 거절한 당시 남아 있는 할부금에 대해 적용되므로  할부거래법 제16조의 사유가 발생한 경우, 신속하게 카드사에 항변권 의사를 전달하는 것이 좋습니다.   \\r\\n\\n 제16조(소비자의 항변권) ① 소비자는 다음 각 호의 어느 하나에 해당하는 사유가 있는 경우에는 할부거래업자에게 그 할부금의 지급을 거절할 수 있다.\\r\\n   1. 할부계약이 불성립·무효인 경우\\r\\n   2. 할부계약이 취소·해제 또는 해지된 경우\\r\\n   3. 재화등의 전부 또는 일부가 제6조제1항제2호에 따른 재화등의 공급 시기까지 소비자에게 공급되지 아니한 경우\\r\\n   4. 할부거래업자가 하자담보책임을 이행하지 아니한 경우\\r\\n   5. 그 밖에 할부거래업자의 채무불이행으로 인하여 할부계약의 목적을 달성할 수 없는 경우\\r\\n   6. 다른 법률에 따라 정당하게 청약을 철회한 경우\\n\\n',\n",
       " 'date': '2018.10.02',\n",
       " 'gooboon': '금융',\n",
       " 'itemCode': '금융',\n",
       " 'num': '3',\n",
       " 'question': '\\n\\n2018. 1. 병원과 도수치료 10회 계약을 체결하고 1,328,000원을 신용카드 3개월 할부 결제하고, 3회까지 치료를 받은 후 해당 병원 의사가 구속되어 치료가 중단되었습니다. 이에 카드사에 할부항변을 요청하였으나 해당 병원이 폐업 상태가 아니기 때문에 할부항변이 불가하고, 병원에 지급된 금액이 회수되어야 처리가 가능하다고 하는데 방법이 없을까요?\\n\\n',\n",
       " 'title': '의사의 구속으로 인해 치료 불가한 도수치료 비용 할부항변 수용 요구'}"
      ]
     },
     "execution_count": 8,
     "metadata": {},
     "output_type": "execute_result"
    }
   ],
   "source": [
    "db[0]"
   ]
  },
  {
   "cell_type": "code",
   "execution_count": 15,
   "metadata": {},
   "outputs": [],
   "source": [
    "import datetime"
   ]
  },
  {
   "cell_type": "code",
   "execution_count": 27,
   "metadata": {},
   "outputs": [
    {
     "name": "stdout",
     "output_type": "stream",
     "text": [
      "1000 th mobum QA: 사전 설명과 다른 에어컨 계약의 해지 요구 Time until now: (-28, 7)\n",
      "2000 th mobum QA: 다이어트식품 3일 만에 청약철회 시 계약금 반환 Time until now: (-46, 58)\n",
      "3000 th mobum QA: 구입 3일만에 폐사한애완견, 보상방안 문의 Time until now: (-62, 19)\n",
      "4000 th mobum QA: 무료부가서비스가 유료전환되어 청구된 대금 환급요청 Time until now: (-79, 45)\n",
      "5000 th mobum QA: 배송지연으로 부패한 음식물 보상 요구 Time until now: (-95, 0)\n",
      "6000 th mobum QA: 임대 아파트 하자 보수 거부 Time until now: (-112, 30)\n",
      "7000 th mobum QA: 캐디백의 하자발생시 무상수리 외 반품여부 Time until now: (-129, 18)\n",
      "8000 th mobum QA: 카오디어 터치스크린의 반복된 불량 Time until now: (-146, 33)\n",
      "9000 th mobum QA: 해지하지 않아 청구된 이동전화 기본료 환급 요구 Time until now: (-163, 27)\n",
      "10000 th mobum QA: 한 번 사용한 변압기의 반품이 가능한지 문의 Time until now: (-180, 55)\n",
      "11000 th mobum QA: 통화요금 할인조건으로 계약한 휴대폰 하자 발생 시 보상 요구 Time until now: (-197, 20)\n"
     ]
    }
   ],
   "source": [
    "i = 0\n",
    "db = list()\n",
    "startTime = datetime.datetime.now()\n",
    "while i < 11270:\n",
    "    db = scrape(url, i, db)\n",
    "    i += 10\n",
    "    if i % 1000 == 0:\n",
    "        cur = datetime.datetime.now()\n",
    "        c = startTime - cur\n",
    "        print(i, 'th mobum QA:', db[i-1]['title'], 'Time until now:', divmod(c.days * 86400 + c.seconds, 60))"
   ]
  },
  {
   "cell_type": "code",
   "execution_count": 28,
   "metadata": {},
   "outputs": [],
   "source": [
    "import json"
   ]
  },
  {
   "cell_type": "code",
   "execution_count": 32,
   "metadata": {},
   "outputs": [],
   "source": [
    "with open('mobum_answers_data.json', 'w') as json_file:\n",
    "    json.dump(db, json_file)"
   ]
  },
  {
   "cell_type": "code",
   "execution_count": 30,
   "metadata": {},
   "outputs": [
    {
     "data": {
      "text/plain": [
       "11270"
      ]
     },
     "execution_count": 30,
     "metadata": {},
     "output_type": "execute_result"
    }
   ],
   "source": [
    "len(db)"
   ]
  },
  {
   "cell_type": "code",
   "execution_count": 34,
   "metadata": {},
   "outputs": [],
   "source": [
    "with open('mobum_answers_data.json') as json_file:\n",
    "    data = json.load(json_file)"
   ]
  },
  {
   "cell_type": "code",
   "execution_count": 35,
   "metadata": {},
   "outputs": [
    {
     "data": {
      "text/plain": [
       "{'answer': '\\n\\n설계사에게 이사 및 주소변경 사실을 알렸고 보험회사가 일반인의 주의를 기울이지 않았다면 보험금을 받을 수 있습니다.\\r\\n\\n    보험계약자는 보험계약에서 정한 보험료를 납입할 의무가 있고, 보험계약 유지중 위험이 변경·증가되거나 주소 등이 변경되었을 때에는 보험회사에 이를 통지하여야 할 의무가 있으며, 이를 소홀히 하여 발생하는 책임은 보험계약자에게 있습니다. \\r\\n    주소지가 변경된 경우의 보험료 납입최고와 관련하여, 판례에 의하면 보험계약자 등의 소재를 알았거나 일반인의 주의만 기울였더라면 알 수 있는 경우에까지 종전주소로 보험계약의 해지나 보험료 납입최고를 할 수 있도록 한 보험회사의 약관은 약관규제법에 의해 무효이고, 보험회사가 과실 없이 보험계약자나 피보험자의 변경주소를 알지 못하는 경우에 한해 적용되어야 한다고 판시하고 있습니다.\\r\\n    이 사례에서 보험설계사에게 이사 및 주소변경 사실을 알린 것으로 확인되고, 이에 대해 달리 보험회사에서 일반인의 주의로 변경된 주소지를 파악하려고 노력한 사실을 입증하지 못한다면, 보험회사는 보험계약을 원상회복시키고 해당 보험금을 지급할 책임이 있습니다.\\r\\n    보험계약자도 주소·직업 등이 변경되었을 때에는 보험회사에 이를 즉시 통지하여야 하며, 주기적으로 보험료 납입여부를 확인하는 습관을 지녀야 하겠습니다.\\n\\n',\n",
       " 'date': '2005.11.25',\n",
       " 'gooboon': '금융',\n",
       " 'itemCode': '금융',\n",
       " 'num': '11261',\n",
       " 'question': '\\n\\n자동차보험 가입 당시 보험료 자동이체 납입 및 자동갱신 특약을 추가하여 계약을 체결·유지하여 오던 중, 현재의 거주지로 이사한 후, 자녀가 무보험회사동차에 의해 부상을 입는 사고를 당했습니다. 보험회사에 무보험회사동차에 의한 상해 보험금을 청구하였으나, 보험회사에서는 분할보험료 납입최고 안내장을 발송하였음에도 보험료가 납입되지 않아 보험계약이 해지되었으므로 보상할 수 없다는 통보만 보내왔습니다. 설계사에게 주소변경사실을 통지하였는데도 보험금을 지급하지 않겠다는 것은 부당한 처사가 아닌가요?\\n\\n',\n",
       " 'title': '변경 전 주소로 행한 납입 최고의 효력'}"
      ]
     },
     "execution_count": 35,
     "metadata": {},
     "output_type": "execute_result"
    }
   ],
   "source": [
    "data[11260]"
   ]
  },
  {
   "cell_type": "markdown",
   "metadata": {},
   "source": [
    "-END-"
   ]
  }
 ],
 "metadata": {
  "kernelspec": {
   "display_name": "Python 3",
   "language": "python",
   "name": "python3"
  },
  "language_info": {
   "codemirror_mode": {
    "name": "ipython",
    "version": 3
   },
   "file_extension": ".py",
   "mimetype": "text/x-python",
   "name": "python",
   "nbconvert_exporter": "python",
   "pygments_lexer": "ipython3",
   "version": "3.5.6"
  }
 },
 "nbformat": 4,
 "nbformat_minor": 2
}
